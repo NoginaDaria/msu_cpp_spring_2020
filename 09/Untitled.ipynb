{
 "cells": [
  {
   "cell_type": "code",
   "execution_count": 1,
   "metadata": {},
   "outputs": [],
   "source": [
    "import numpy as np\n",
    "import os\n",
    "from subprocess import Popen, PIPE\n",
    "from timeit import default_timer as timer"
   ]
  },
  {
   "cell_type": "code",
   "execution_count": 44,
   "metadata": {},
   "outputs": [],
   "source": [
    "TEMP_SHUFFLED = \"shuffled_file\"\n",
    "TEMP_SORTED = \"new_sorted_file\"\n",
    "PATH_TO_EXT_SORT = \"external_sort.exe\""
   ]
  },
  {
   "cell_type": "code",
   "execution_count": 20,
   "metadata": {},
   "outputs": [],
   "source": [
    "def print_work_time(func):\n",
    "    def wrapper(*args, **kwargs):\n",
    "        start = timer()\n",
    "        result = func(*args, **kwargs)\n",
    "        end = timer()\n",
    "        print(\"Execution takes {}\".format(end - start))\n",
    "        return result\n",
    "    return wrapper"
   ]
  },
  {
   "cell_type": "code",
   "execution_count": 21,
   "metadata": {},
   "outputs": [],
   "source": [
    "@print_work_time\n",
    "def call_extern_sort(test_file_shuffle=TEMP_SHUFFLED,\n",
    "                     test_file_sorted=TEMP_SORTED,\n",
    "                     path_to_ext_sort=PATH_TO_EXT_SORT):\n",
    "    proc = Popen(\n",
    "        \"./{} {} {}\".format(path_to_ext_sort,\n",
    "                            test_file_shuffle,\n",
    "                            test_file_sorted),\n",
    "        shell=True,\n",
    "        stdout=PIPE,\n",
    "        stderr=PIPE\n",
    "    )\n",
    "    proc.wait()\n",
    "    proc.communicate()"
   ]
  },
  {
   "cell_type": "code",
   "execution_count": 22,
   "metadata": {},
   "outputs": [
    {
     "name": "stdout",
     "output_type": "stream",
     "text": [
      "Execution takes 0.011417042999994464\n"
     ]
    }
   ],
   "source": [
    "call_extern_sort()"
   ]
  },
  {
   "cell_type": "code",
   "execution_count": 50,
   "metadata": {},
   "outputs": [
    {
     "name": "stdout",
     "output_type": "stream",
     "text": [
      "0\n",
      "3\n",
      "2\n",
      "1\n",
      "0\n"
     ]
    }
   ],
   "source": [
    "with open(TEMP_SHUFFLED, 'rb') as f:\n",
    "    for line in f:\n",
    "        print(line[0])"
   ]
  },
  {
   "cell_type": "code",
   "execution_count": 48,
   "metadata": {},
   "outputs": [
    {
     "name": "stdout",
     "output_type": "stream",
     "text": [
      "1\n",
      "0\n",
      "1\n",
      "2\n",
      "3\n"
     ]
    }
   ],
   "source": [
    "with open(TEMP_SORTED, 'rb') as f:\n",
    "    for line in f:\n",
    "        print(line[0])"
   ]
  },
  {
   "cell_type": "code",
   "execution_count": 49,
   "metadata": {},
   "outputs": [
    {
     "name": "stdout",
     "output_type": "stream",
     "text": [
      "0\n",
      "0\n",
      "1\n",
      "2\n",
      "3\n"
     ]
    }
   ],
   "source": [
    "with open('sorted_file', 'rb') as f:\n",
    "    for line in f:\n",
    "        print(line[0])"
   ]
  },
  {
   "cell_type": "code",
   "execution_count": 53,
   "metadata": {},
   "outputs": [
    {
     "name": "stdout",
     "output_type": "stream",
     "text": [
      "0\n",
      "0\n",
      "1\n",
      "2\n",
      "3\n"
     ]
    }
   ],
   "source": [
    "with open('out.bin', 'rb') as f:\n",
    "    for line in f:\n",
    "        print(line[0])"
   ]
  },
  {
   "cell_type": "code",
   "execution_count": 54,
   "metadata": {},
   "outputs": [],
   "source": [
    "ar = np.array([1,3,2])"
   ]
  },
  {
   "cell_type": "code",
   "execution_count": 55,
   "metadata": {},
   "outputs": [
    {
     "data": {
      "text/plain": [
       "array([1, 2, 3])"
      ]
     },
     "execution_count": 55,
     "metadata": {},
     "output_type": "execute_result"
    }
   ],
   "source": [
    "np.sort(ar)"
   ]
  },
  {
   "cell_type": "code",
   "execution_count": 56,
   "metadata": {},
   "outputs": [
    {
     "ename": "NameError",
     "evalue": "name 'MIN_VALUE' is not defined",
     "output_type": "error",
     "traceback": [
      "\u001b[0;31m---------------------------------------------------------------------------\u001b[0m",
      "\u001b[0;31mNameError\u001b[0m                                 Traceback (most recent call last)",
      "\u001b[0;32m<ipython-input-56-5c069871ef28>\u001b[0m in \u001b[0;36m<module>\u001b[0;34m\u001b[0m\n\u001b[1;32m      1\u001b[0m def make_test(array_size,\n\u001b[0;32m----> 2\u001b[0;31m               \u001b[0mmin_value\u001b[0m\u001b[0;34m=\u001b[0m\u001b[0mMIN_VALUE\u001b[0m\u001b[0;34m,\u001b[0m\u001b[0;34m\u001b[0m\u001b[0;34m\u001b[0m\u001b[0m\n\u001b[0m\u001b[1;32m      3\u001b[0m               \u001b[0mmax_value\u001b[0m\u001b[0;34m=\u001b[0m\u001b[0mMAX_VALUE\u001b[0m\u001b[0;34m,\u001b[0m\u001b[0;34m\u001b[0m\u001b[0;34m\u001b[0m\u001b[0m\n\u001b[1;32m      4\u001b[0m               test_file_shuffle=TEMP_SHUFFLED, sorted_file_name=TEMP_SORTED):\n\u001b[1;32m      5\u001b[0m     \u001b[0marr\u001b[0m \u001b[0;34m=\u001b[0m \u001b[0mnp\u001b[0m\u001b[0;34m.\u001b[0m\u001b[0mrandom\u001b[0m\u001b[0;34m.\u001b[0m\u001b[0mrandint\u001b[0m\u001b[0;34m(\u001b[0m\u001b[0mmin_value\u001b[0m\u001b[0;34m,\u001b[0m \u001b[0mmax_value\u001b[0m\u001b[0;34m,\u001b[0m \u001b[0msize\u001b[0m\u001b[0;34m=\u001b[0m\u001b[0marray_size\u001b[0m\u001b[0;34m,\u001b[0m \u001b[0mdtype\u001b[0m\u001b[0;34m=\u001b[0m\u001b[0mTYPE\u001b[0m\u001b[0;34m)\u001b[0m\u001b[0;34m\u001b[0m\u001b[0;34m\u001b[0m\u001b[0m\n",
      "\u001b[0;31mNameError\u001b[0m: name 'MIN_VALUE' is not defined"
     ]
    }
   ],
   "source": [
    "def make_test(array_size,\n",
    "              min_value=MIN_VALUE,\n",
    "              max_value=MAX_VALUE,\n",
    "              test_file_shuffle=TEMP_SHUFFLED, sorted_file_name=TEMP_SORTED):\n",
    "    arr = np.random.randint(min_value, max_value, size=array_size, dtype=TYPE)\n",
    "    arr.tofile(test_file_shuffle)\n",
    "    arr_sorted = np.sort(arr)\n",
    "    arr.tofile(sorted_file_name)"
   ]
  },
  {
   "cell_type": "code",
   "execution_count": null,
   "metadata": {},
   "outputs": [],
   "source": []
  }
 ],
 "metadata": {
  "kernelspec": {
   "display_name": "Python 3",
   "language": "python",
   "name": "python3"
  },
  "language_info": {
   "codemirror_mode": {
    "name": "ipython",
    "version": 3
   },
   "file_extension": ".py",
   "mimetype": "text/x-python",
   "name": "python",
   "nbconvert_exporter": "python",
   "pygments_lexer": "ipython3",
   "version": "3.7.3"
  }
 },
 "nbformat": 4,
 "nbformat_minor": 2
}
