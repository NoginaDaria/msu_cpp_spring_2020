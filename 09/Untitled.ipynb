{
 "cells": [
  {
   "cell_type": "code",
   "execution_count": 1,
   "metadata": {},
   "outputs": [],
   "source": [
    "import numpy as np\n",
    "import os\n",
    "from subprocess import Popen, PIPE\n",
    "from timeit import default_timer as timer"
   ]
  },
  {
   "cell_type": "code",
   "execution_count": 44,
   "metadata": {},
   "outputs": [],
   "source": [
    "TEMP_SHUFFLED = \"shuffled_file\"\n",
    "TEMP_SORTED = \"new_sorted_file\"\n",
    "PATH_TO_EXT_SORT = \"external_sort.exe\""
   ]
  },
  {
   "cell_type": "code",
   "execution_count": 20,
   "metadata": {},
   "outputs": [],
   "source": [
    "def print_work_time(func):\n",
    "    def wrapper(*args, **kwargs):\n",
    "        start = timer()\n",
    "        result = func(*args, **kwargs)\n",
    "        end = timer()\n",
    "        print(\"Execution takes {}\".format(end - start))\n",
    "        return result\n",
    "    return wrapper"
   ]
  },
  {
   "cell_type": "code",
   "execution_count": 21,
   "metadata": {},
   "outputs": [],
   "source": [
    "@print_work_time\n",
    "def call_extern_sort(test_file_shuffle=TEMP_SHUFFLED,\n",
    "                     test_file_sorted=TEMP_SORTED,\n",
    "                     path_to_ext_sort=PATH_TO_EXT_SORT):\n",
    "    proc = Popen(\n",
    "        \"./{} {} {}\".format(path_to_ext_sort,\n",
    "                            test_file_shuffle,\n",
    "                            test_file_sorted),\n",
    "        shell=True,\n",
    "        stdout=PIPE,\n",
    "        stderr=PIPE\n",
    "    )\n",
    "    proc.wait()\n",
    "    proc.communicate()"
   ]
  },
  {
   "cell_type": "code",
   "execution_count": 22,
   "metadata": {},
   "outputs": [
    {
     "name": "stdout",
     "output_type": "stream",
     "text": [
      "Execution takes 0.011417042999994464\n"
     ]
    }
   ],
   "source": [
    "call_extern_sort()"
   ]
  },
  {
   "cell_type": "code",
   "execution_count": 50,
   "metadata": {},
   "outputs": [
    {
     "name": "stdout",
     "output_type": "stream",
     "text": [
      "0\n",
      "3\n",
      "2\n",
      "1\n",
      "0\n"
     ]
    }
   ],
   "source": [
    "with open(TEMP_SHUFFLED, 'rb') as f:\n",
    "    for line in f:\n",
    "        print(line[0])"
   ]
  },
  {
   "cell_type": "code",
   "execution_count": 48,
   "metadata": {},
   "outputs": [
    {
     "name": "stdout",
     "output_type": "stream",
     "text": [
      "1\n",
      "0\n",
      "1\n",
      "2\n",
      "3\n"
     ]
    }
   ],
   "source": [
    "with open(TEMP_SORTED, 'rb') as f:\n",
    "    for line in f:\n",
    "        print(line[0])"
   ]
  },
  {
   "cell_type": "code",
   "execution_count": 49,
   "metadata": {},
   "outputs": [
    {
     "name": "stdout",
     "output_type": "stream",
     "text": [
      "0\n",
      "0\n",
      "1\n",
      "2\n",
      "3\n"
     ]
    }
   ],
   "source": [
    "with open('sorted_file', 'rb') as f:\n",
    "    for line in f:\n",
    "        print(line[0])"
   ]
  },
  {
   "cell_type": "code",
   "execution_count": null,
   "metadata": {},
   "outputs": [],
   "source": []
  }
 ],
 "metadata": {
  "kernelspec": {
   "display_name": "Python 3",
   "language": "python",
   "name": "python3"
  },
  "language_info": {
   "codemirror_mode": {
    "name": "ipython",
    "version": 3
   },
   "file_extension": ".py",
   "mimetype": "text/x-python",
   "name": "python",
   "nbconvert_exporter": "python",
   "pygments_lexer": "ipython3",
   "version": "3.7.3"
  }
 },
 "nbformat": 4,
 "nbformat_minor": 2
}
